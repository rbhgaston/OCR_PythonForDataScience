{
 "cells": [
  {
   "cell_type": "markdown",
   "metadata": {},
   "source": [
    "Probleme de Monty Hall\n",
    "===================\n",
    "\n"
   ]
  },
  {
   "cell_type": "code",
   "execution_count": 1,
   "metadata": {},
   "outputs": [],
   "source": [
    "# Pour afficher les graphiques dans la continuité du code, \n",
    "# et non pas dans une fenêtre à part:\n",
    "%matplotlib inline\n",
    "\n",
    "import numpy as np\n",
    "\n",
    "# Pour utiliser la fonction randint, qui génère des nombres\n",
    "# entiers de façon aléatoire:\n",
    "from random import randint, seed\n",
    "\n",
    "# Un Enum est une structure de données qui consiste en un \n",
    "# ensemble d'éléments nommés. Une variable de ce type peut\n",
    "# avoir comme valeur un de ces éléments.\n",
    "from enum import Enum\n",
    "\n",
    "# Pour pouvoir afficher des graphiques:\n",
    "import matplotlib.pyplot as plt"
   ]
  },
  {
   "cell_type": "code",
   "execution_count": 3,
   "metadata": {},
   "outputs": [],
   "source": [
    "# Ici nous définissons une sous-classe de Enum, qui contiendra \n",
    "# les stratégies possibles.\n",
    "class Strategie(Enum):\n",
    "    CHANGER = 1\n",
    "    GARDER = 2\n"
   ]
  },
  {
   "cell_type": "code",
   "execution_count": 5,
   "metadata": {},
   "outputs": [
    {
     "name": "stdout",
     "output_type": "stream",
     "text": [
      "[0 1 2]\n"
     ]
    }
   ],
   "source": [
    "a = np.array([0, 1, 2])\n",
    "print(a)"
   ]
  },
  {
   "cell_type": "code",
   "execution_count": 6,
   "metadata": {},
   "outputs": [
    {
     "name": "stdout",
     "output_type": "stream",
     "text": [
      "2\n"
     ]
    }
   ],
   "source": [
    "b = randint(0, 2)\n",
    "print(b)\n"
   ]
  },
  {
   "cell_type": "code",
   "execution_count": 7,
   "metadata": {},
   "outputs": [
    {
     "data": {
      "text/plain": [
       "array([0, 1, 2])"
      ]
     },
     "execution_count": 7,
     "metadata": {},
     "output_type": "execute_result"
    }
   ],
   "source": [
    "a"
   ]
  },
  {
   "cell_type": "code",
   "execution_count": 4,
   "metadata": {},
   "outputs": [],
   "source": [
    "# Utilise l'horloge système pour initialiser le générateur de \n",
    "# nombres pseudo-aléatoires.\n",
    "seed()\n",
    "\n",
    "def play_game(strategie):\n",
    "    '''Simule une partie du jeu Monty Hall.\n",
    "    \n",
    "    Cette fonction simule le choix de la porte par le participant, \n",
    "    l'élimination d'une mauvaise porte par le présentateur, et le \n",
    "    choix final. Elle ne retourne que le résultat de la partie, parce \n",
    "    que nous n'aurons besoin que du résultat pour effectuer nos calculs.\n",
    "    \n",
    "    Args:\n",
    "        strategie (Strategie): La stratégie du joueur\n",
    "        \n",
    "    Returns:\n",
    "        bool: Le joueur a-t-il gagné?\n",
    "    '''\n",
    "\n",
    "    portes = np.array([0, 1, 2])\n",
    "    \n",
    "    bonne_porte = randint(0,2)\n",
    "    \n",
    "    # Choix du joueur\n",
    "    premier_choix = randint(0,2)\n",
    "    \n",
    "    # Il nous reste deux portes\n",
    "    portes.remove(premier_choix)\n",
    "    \n",
    "    # Le présentateur élimine une porte\n",
    "    if premier_choix == bonne_porte:\n",
    "        portes.remove(portes[randint(0,1)])\n",
    "    else:\n",
    "        portes = [bonne_porte]\n",
    "    \n",
    "    deuxieme_choix = 0\n",
    "    # Le deuxieme choix depend de la strategie\n",
    "    if strategie == Strategie.CHANGER:\n",
    "        deuxieme_choix = portes[0]\n",
    "    elif strategie == Strategie.GARDER:\n",
    "        deuxieme_choix = premier_choix\n",
    "    else:\n",
    "        raise ValueError(\"Stratégie non reconnue!\")\n",
    "    \n",
    "    return deuxieme_choix == bonne_porte\n"
   ]
  },
  {
   "cell_type": "code",
   "execution_count": 5,
   "metadata": {},
   "outputs": [
    {
     "name": "stdout",
     "output_type": "stream",
     "text": [
      "Premier nombre aléatoire: 71\n",
      "Deuxième nombre aléatoire: 97\n",
      "Premier nombre aléatoire: 17\n",
      "Deuxième nombre aléatoire: 72\n",
      "Premier nombre aléatoire: 17\n",
      "Deuxième nombre aléatoire: 72\n"
     ]
    }
   ],
   "source": [
    "seed()\n",
    "print(\"Premier nombre aléatoire: {}\".format(randint(0,100)))\n",
    "print(\"Deuxième nombre aléatoire: {}\".format(randint(0,100)))\n",
    "\n",
    "seed(1)\n",
    "print(\"Premier nombre aléatoire: {}\".format(randint(0,100)))\n",
    "print(\"Deuxième nombre aléatoire: {}\".format(randint(0,100)))\n",
    "\n",
    "seed(1)\n",
    "# Les deux prochains appels vont retourner le même résultat que les deux précédents\n",
    "print(\"Premier nombre aléatoire: {}\".format(randint(0,100)))\n",
    "print(\"Deuxième nombre aléatoire: {}\".format(randint(0,100)))"
   ]
  },
  {
   "cell_type": "code",
   "execution_count": 6,
   "metadata": {},
   "outputs": [],
   "source": [
    "def play(strategie, nb_tours):\n",
    "    '''Simule une suite de tours du jeu.\n",
    "    \n",
    "    Cette fonction renvoie les résultats de plusieurs parties\n",
    "    du jeu Monty Hall sous forme d'une liste de gains par le \n",
    "    joueur.\n",
    "    \n",
    "    Args:\n",
    "        strategie (Strategie): La strategie du joueur\n",
    "        nb_tours (int): Nombre de tours\n",
    "        \n",
    "    Returns:\n",
    "        list: Liste des gains du joueurs à chaque partie\n",
    "    '''\n",
    "    \n",
    "    # Ceci est une liste en compréhension. Pour en savoir plus, consulter \n",
    "    # le cours \"Apprenez à programmer en Python\" sur OpenClassrooms\n",
    "    return [1 if play_game(strategie) else 0 for i in range(nb_tours)]\n"
   ]
  },
  {
   "cell_type": "code",
   "execution_count": 7,
   "metadata": {},
   "outputs": [
    {
     "name": "stdout",
     "output_type": "stream",
     "text": [
      "En changeant de porte, le joueur a gagné 6666 sur 10000 parties.\n",
      "En gardant son choix initial, le joueur a gagné 3319 sur 10000 parties.\n"
     ]
    }
   ],
   "source": [
    "print(\"En changeant de porte, le joueur a gagné {} sur 10000 parties.\"\n",
    "      .format(sum(play(Strategie.CHANGER, 10000))))\n",
    "      \n",
    "print(\"En gardant son choix initial, le joueur a gagné {} sur 10000 parties.\"\n",
    "      .format(sum(play(Strategie.GARDER, 10000))))"
   ]
  },
  {
   "cell_type": "code",
   "execution_count": 12,
   "metadata": {},
   "outputs": [
    {
     "name": "stdout",
     "output_type": "stream",
     "text": [
      "0 - nombre aléatoire: 1\n",
      "1 - nombre aléatoire: 2\n",
      "2 - nombre aléatoire: 2\n",
      "3 - nombre aléatoire: 1\n",
      "4 - nombre aléatoire: 2\n",
      "5 - nombre aléatoire: 1\n",
      "6 - nombre aléatoire: 1\n",
      "7 - nombre aléatoire: 2\n",
      "8 - nombre aléatoire: 1\n",
      "9 - nombre aléatoire: 1\n",
      "Strategie.CHANGER\n"
     ]
    }
   ],
   "source": [
    "seed()\n",
    "for i in range(0, 10):\n",
    "    print(\"{} - nombre aléatoire: {}\".format(i, randint(1, 2)))\n",
    "\n",
    "print(Strategie.CHANGER)"
   ]
  },
  {
   "cell_type": "code",
   "execution_count": 15,
   "metadata": {},
   "outputs": [],
   "source": [
    "def play_random(nb_tours):\n",
    "    '''Simule une suite de tours du jeu.\n",
    "    \n",
    "    Cette fonction renvoie les résultats de plusieurs parties\n",
    "    du jeu Monty Hall sous forme d'une liste de gains par le \n",
    "    joueur.\n",
    "    \n",
    "    Args:\n",
    "        strategie (Strategie): La strategie du joueur\n",
    "        nb_tours (int): Nombre de tours\n",
    "        \n",
    "    Returns:\n",
    "        list: Liste des gains du joueurs à chaque partie\n",
    "    '''\n",
    "    \n",
    "    tour = []\n",
    "    seed()\n",
    "    \n",
    "    for i in range(nb_tours):\n",
    "        alea = randint(1, 2)\n",
    "        \n",
    "        if alea == 1:\n",
    "            strategie = Strategie.GARDER\n",
    "        else:\n",
    "            strategie = Strategie.CHANGER\n",
    "            \n",
    "        if play_game(strategie):\n",
    "            tour.append(1)\n",
    "        else:\n",
    "            tour.append(0)\n",
    "            \n",
    "    return tour"
   ]
  },
  {
   "cell_type": "code",
   "execution_count": 19,
   "metadata": {},
   "outputs": [
    {
     "name": "stdout",
     "output_type": "stream",
     "text": [
      "En changeant de porte, le joueur a gagné 49840 sur 10000 parties.\n"
     ]
    }
   ],
   "source": [
    "print(\"En changeant de porte, le joueur a gagné {} sur 10000 parties.\"\n",
    "      .format(sum(play_random(10000))))"
   ]
  },
  {
   "cell_type": "markdown",
   "metadata": {},
   "source": [
    "Three doors in the Monty Hall Problem"
   ]
  },
  {
   "cell_type": "code",
   "execution_count": 10,
   "metadata": {},
   "outputs": [
    {
     "name": "stdout",
     "output_type": "stream",
     "text": [
      "[2 2 1 3 2]\n",
      "[2 3 3 3 1]\n"
     ]
    }
   ],
   "source": [
    "portes = np.array([1, 2, 3])\n",
    "\n",
    "n_tour = 5\n",
    "porte_bonne = np.random.choice(doors, n_tour)\n",
    "porte_choisie = np.random.choice(doors, n_tour)\n",
    "\n",
    "print(porte_bonne)\n",
    "print(porte_choisie)\n",
    "\n",
    "print(np)"
   ]
  },
  {
   "cell_type": "code",
   "execution_count": 11,
   "metadata": {},
   "outputs": [],
   "source": [
    "import numpy as np # imports a fast numerical programming library\n",
    "import scipy as sp #imports stats functions, amongst other things\n",
    "import matplotlib as mpl # this actually imports matplotlib\n",
    "import matplotlib.cm as cm #allows us easy access to colormaps\n",
    "import matplotlib.pyplot as plt #sets up plotting under plt\n",
    "import pandas as pd #lets us handle data as dataframes\n",
    "#sets up pandas table display\n",
    "pd.set_option('display.width', 500)\n",
    "pd.set_option('display.max_columns', 100)\n",
    "pd.set_option('display.notebook_repr_html', True)\n",
    "import seaborn as sns #sets up styles and gives us more plotting options\n",
    "\n",
    "#Set Parameters\n",
    "nsim = 1000 # simulation times\n",
    "doors = 10 # number of dooors, must be >2 integers\n"
   ]
  },
  {
   "cell_type": "code",
   "execution_count": 12,
   "metadata": {},
   "outputs": [],
   "source": [
    "def simulate_prizedoor(nsim):\n",
    "    return np.random.randint(0, doors, (nsim))\n",
    "\n",
    "def simulate_guess(nsim):\n",
    "    return np.random.randint(0, doors, (nsim))\n",
    "\n",
    "def goat_door(prizedoors, guesses):\n",
    "   out = pd.DataFrame();\n",
    "   while out.shape[1] != nsim:\n",
    "    for t in range(0, nsim):\n",
    "        if prizedoors[t] == guesses[t]:\n",
    "            same_thing = prizedoors[t]\n",
    "            out[t] = np.random.choice([x for x in range(0,doors) if x != same_thing], doors-2, replace = False)\n",
    "        else:\n",
    "            out[t] = [x for x in range(0,doors) if x != prizedoors[t] and x != guesses[t]]\n",
    "    return out    \n",
    "\n",
    "def switch_guess(guesses, goatdoors):\n",
    "    result = pd.DataFrame()\n",
    "    for t in range(0, nsim):\n",
    "        result[t] = list(set(range(0,doors)) - set([guesses[t]]) - set(goatdoors[t]))\n",
    "    return result"
   ]
  },
  {
   "cell_type": "code",
   "execution_count": 14,
   "metadata": {},
   "outputs": [
    {
     "name": "stdout",
     "output_type": "stream",
     "text": [
      "When there are 10 doors, win percentage when keeping original door is\n",
      "10.6\n",
      "On the other hand, if switching the win percentage is\n",
      "89.3\n"
     ]
    }
   ],
   "source": [
    "def win_percentage(guesses, prizedoors):\n",
    "    return 100 * (guesses == prizedoors).mean()\n",
    "\n",
    "#keep guesses\n",
    "print(\"When there are\", doors, \"doors, win percentage when keeping original door is\")\n",
    "print(win_percentage(simulate_guess(nsim), simulate_prizedoor(nsim)))\n",
    "\n",
    "#switch\n",
    "prize = simulate_prizedoor(nsim)\n",
    "guess = simulate_guess(nsim)\n",
    "goats = goat_door(prize, guess)\n",
    "\n",
    "guess = switch_guess(guess, goats)\n",
    "print (\"On the other hand, if switching the win percentage is\")\n",
    "print(win_percentage(prize, guess).mean())"
   ]
  },
  {
   "cell_type": "code",
   "execution_count": null,
   "metadata": {},
   "outputs": [],
   "source": []
  }
 ],
 "metadata": {
  "kernelspec": {
   "display_name": "Python 3",
   "language": "python",
   "name": "python3"
  },
  "language_info": {
   "codemirror_mode": {
    "name": "ipython",
    "version": 3
   },
   "file_extension": ".py",
   "mimetype": "text/x-python",
   "name": "python",
   "nbconvert_exporter": "python",
   "pygments_lexer": "ipython3",
   "version": "3.6.7"
  }
 },
 "nbformat": 4,
 "nbformat_minor": 2
}
