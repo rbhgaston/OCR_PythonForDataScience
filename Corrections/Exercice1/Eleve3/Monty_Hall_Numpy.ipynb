{
 "cells": [
  {
   "cell_type": "markdown",
   "metadata": {},
   "source": [
    "# Simulez le problème de Monty Hall avec Numpy\n",
    "\n",
    "## Importation des libraires nécéssaires"
   ]
  },
  {
   "cell_type": "code",
   "execution_count": 24,
   "metadata": {
    "scrolled": true
   },
   "outputs": [],
   "source": [
    "%matplotlib inline  \n",
    "import numpy as np\n",
    "import matplotlib.pyplot as plt\n",
    "import Monty_Hall # Module contenant la classe Strategie et la fonction play qui simule plusieurs parties"
   ]
  },
  {
   "cell_type": "markdown",
   "metadata": {},
   "source": [
    "## Initialisation du générateur de nombres pseudo-aléatoires da librairie random de Numpy"
   ]
  },
  {
   "cell_type": "code",
   "execution_count": 25,
   "metadata": {},
   "outputs": [],
   "source": [
    "# Utilise l'horloge système pour initialiser le générateur de nombres pseudo-aléatoires.\n",
    "np.random.seed()"
   ]
  },
  {
   "cell_type": "markdown",
   "metadata": {},
   "source": [
    "## Analyse des résultats"
   ]
  },
  {
   "cell_type": "code",
   "execution_count": 26,
   "metadata": {
    "scrolled": false
   },
   "outputs": [
    {
     "name": "stdout",
     "output_type": "stream",
     "text": [
      "En changeant de porte, le joueur a gagné 6623 sur 10000 parties.\n",
      "En gardant son choix initial, le joueur a gagné 3309 sur 10000 parties.\n",
      "En changeant aléatoirement, le joueur a gagné 5017 sur 10000 parties.\n"
     ]
    }
   ],
   "source": [
    "print(\"En changeant de porte, le joueur a gagné {} sur 10000 parties.\"\n",
    "      .format(sum(play(Strategie.CHANGER, 10000))))\n",
    "      \n",
    "print(\"En gardant son choix initial, le joueur a gagné {} sur 10000 parties.\"\n",
    "      .format(sum(play(Strategie.GARDER, 10000))))\n",
    "\n",
    "print(\"En changeant aléatoirement, le joueur a gagné {} sur 10000 parties.\"\n",
    "      .format(sum(play(Strategie.ALEATOIRE, 10000))))"
   ]
  },
  {
   "cell_type": "markdown",
   "metadata": {},
   "source": [
    "## Visualisation des résultats"
   ]
  },
  {
   "cell_type": "code",
   "execution_count": 27,
   "metadata": {
    "scrolled": true
   },
   "outputs": [
    {
     "data": {
      "image/png": "[encoded data removed]",
      "text/plain": [
       "<Figure size 432x288 with 1 Axes>"
      ]
     },
     "metadata": {
      "needs_background": "light"
     },
     "output_type": "display_data"
    }
   ],
   "source": [
    "plot = plt.bar([1,2,3],[sum(play(Strategie.CHANGER, 10000)), \n",
    "               sum(play(Strategie.GARDER, 10000)), sum(play(Strategie.ALEATOIRE, 10000))], \n",
    "        tick_label=[\"Changer\",\"Garder\", \"Aléatoire\"])"
   ]
  },
  {
   "cell_type": "markdown",
   "metadata": {},
   "source": [
    "## Comportement linéaire en fonction du nombre de tours"
   ]
  },
  {
   "cell_type": "code",
   "execution_count": 28,
   "metadata": {
    "scrolled": false
   },
   "outputs": [
    {
     "data": {
      "image/png": "[encoded data removed]",
      "text/plain": [
       "<Figure size 504x504 with 1 Axes>"
      ]
     },
     "metadata": {
      "needs_background": "light"
     },
     "output_type": "display_data"
    }
   ],
   "source": [
    "gains_changer, gains_garder, gains_aleatoire = [], [], []\n",
    "samples =  [10000*i for i in range(10)]\n",
    "for tours in samples:\n",
    "    gains_changer.append(play(Strategie.CHANGER, tours))\n",
    "    gains_garder.append(play(Strategie.GARDER, tours))\n",
    "    gains_aleatoire.append(play(Strategie.ALEATOIRE, tours))\n",
    "\n",
    "G_C = [sum(x) for x in gains_changer]\n",
    "G_G = [sum(x) for x in gains_garder]\n",
    "G_A = [sum(x) for x in gains_aleatoire]\n",
    "\n",
    "figure = plt.figure(figsize = (7,7))\n",
    "plot = plt.scatter(samples, G_C, label = 'CHANGER')\n",
    "plot = plt.scatter(samples, G_G, label = 'GARDER')\n",
    "plot = plt.scatter(samples, G_A, label = 'ALEATOIRE')\n",
    "legend = plt.legend(loc = 'upper left')"
   ]
  },
  {
   "cell_type": "markdown",
   "metadata": {},
   "source": [
    "## Moyenne des gains"
   ]
  },
  {
   "cell_type": "code",
   "execution_count": 29,
   "metadata": {},
   "outputs": [
    {
     "data": {
      "image/png": "[encoded data removed]",
      "text/plain": [
       "<Figure size 432x288 with 1 Axes>"
      ]
     },
     "metadata": {
      "needs_background": "light"
     },
     "output_type": "display_data"
    }
   ],
   "source": [
    "plt.bar([1,2,3], [sum(G_C)/sum(samples), sum(G_G)/sum(samples), sum(G_A)/sum(samples)], tick_label = [\"Changer\", \"Garder\", \"Aléatoire\"]);"
   ]
  },
  {
   "cell_type": "markdown",
   "metadata": {},
   "source": [
    "# Conclusion :\n",
    "\n",
    "### La probabilité de gagner en changeant de porte est de 2/3.\n",
    "### La probabilité de gagner en gardant la même porte des de 1/3.\n",
    "### La probabilité de gagner en changeant aléatoirement de porte est de 1/2.\n",
    "\n",
    "### Cela est conforme à l'intuition :\n",
    "    . Si on choisit de changer de porte : Initialement il y a deux chemins possibles (sur les trois existants) qui mènent à la victoire puisqu'il y a deux portes sur trois qui ne contiennent pas de voiture. Probabilité 2/3.\n",
    "    . Si on choisit de garder la même porte : Initialement il n'y a qu'un seul chemin possible (sur les trois existants) qui mène à la victoire. Probabilité 1/3.\n",
    "    . Si on change aléatoirement de porte : On ne se préoccupe pas de ce qu'il s'est passé avant, et on se retrouve dans une situation où l'on a une chance sur deux de gagner. Probabilité 1/2."
   ]
  }
 ],
 "metadata": {
  "kernelspec": {
   "display_name": "Python 3",
   "language": "python",
   "name": "python3"
  },
  "language_info": {
   "codemirror_mode": {
    "name": "ipython",
    "version": 3
   },
   "file_extension": ".py",
   "mimetype": "text/x-python",
   "name": "python",
   "nbconvert_exporter": "python",
   "pygments_lexer": "ipython3",
   "version": "3.6.7"
  }
 },
 "nbformat": 4,
 "nbformat_minor": 2
}
